{
 "cells": [
  {
   "cell_type": "code",
   "execution_count": null,
   "metadata": {},
   "outputs": [],
   "source": [
    "import time\n",
    "from tqdm import tqdm\n",
    "\n",
    "import cv2\n",
    "import numpy as np\n",
    "\n",
    "from ultralytics import YOLO\n",
    "\n",
    "import supervision as sv\n",
    "\n",
    "import matplotlib.pyplot as plt\n",
    "%matplotlib inline"
   ]
  },
  {
   "cell_type": "code",
   "execution_count": null,
   "metadata": {},
   "outputs": [],
   "source": [
    "model = YOLO('yolov8x.pt')"
   ]
  },
  {
   "cell_type": "code",
   "execution_count": null,
   "metadata": {},
   "outputs": [],
   "source": [
    "video = 'videos/traffic.mp4'"
   ]
  },
  {
   "cell_type": "code",
   "execution_count": null,
   "metadata": {},
   "outputs": [],
   "source": [
    "video_info = sv.VideoInfo.from_video_path(video)\n",
    "video_info.resolution_wh"
   ]
  },
  {
   "cell_type": "code",
   "execution_count": null,
   "metadata": {},
   "outputs": [],
   "source": [
    "generator = sv.get_video_frames_generator(video_info)\n",
    "iterator = iter(generator)\n",
    "frame = next(iterator)\n",
    "frame.shape"
   ]
  },
  {
   "cell_type": "code",
   "execution_count": null,
   "metadata": {},
   "outputs": [],
   "source": [
    "plt.imshow(frame[:,:,::-1])\n",
    "plt.show()"
   ]
  },
  {
   "cell_type": "code",
   "execution_count": null,
   "metadata": {},
   "outputs": [],
   "source": [
    "polygons = [\n",
    "    np.array([[600, 680], [927, 680], [851, 950], [42, 950]]),\n",
    "    np.array([[987, 680], [1350, 680], [1893, 950], [1015, 950]])\n",
    "]\n",
    "\n",
    "zones = [sv.PolygonZone(polygon=polygon, frame_resolution_wh=video_info.resolution_wh) for polygon in polygons]"
   ]
  },
  {
   "cell_type": "code",
   "execution_count": null,
   "metadata": {},
   "outputs": [],
   "source": [
    "colors = sv.ColorPalette.default()"
   ]
  },
  {
   "cell_type": "code",
   "execution_count": null,
   "metadata": {},
   "outputs": [],
   "source": [
    "zone_annotators = [\n",
    "    sv.PolygonZoneAnnotator(zone=zone, color=colors.by_idx(index), thickness=6, text_thickness=12, text_scale=4)\n",
    "    for index, zone in enumerate(zones)\n",
    "]"
   ]
  },
  {
   "cell_type": "code",
   "execution_count": null,
   "metadata": {},
   "outputs": [],
   "source": [
    "results = model(frame, imgsz=1280, verbose=False, show=False, device='cuda:0')[0]\n",
    "detections = sv.Detections.from_yolov8(results)\n"
   ]
  },
  {
   "cell_type": "code",
   "execution_count": null,
   "metadata": {},
   "outputs": [],
   "source": [
    "for zone, zone_annotator, box_annotator in zip(zones, zone_annotators, box_annotators):\n",
    "    \n",
    "    mask = zone.trigger(detections=detections)\n",
    "    detections_filtered = detections[mask]\n",
    "    frame = box_annotator.annotate(scene=frame, detections=detections_filtered, skip_label=True)\n",
    "    frame = zone_annotator.annotate(scene=frame)\n",
    "\n",
    "plt.imshow(frame[:,:,::-1])\n",
    "plt.show()"
   ]
  },
  {
   "cell_type": "code",
   "execution_count": null,
   "metadata": {},
   "outputs": [],
   "source": [
    "plt.imshow(zone.mask)\n",
    "plt.show()\n",
    "zone.current_count"
   ]
  },
  {
   "cell_type": "code",
   "execution_count": null,
   "metadata": {},
   "outputs": [],
   "source": [
    "def process_frame(frame: np.ndarray, i) -> np.ndarray:\n",
    "    results = model(frame, imgsz=1280, verbose=False, show=False, device='cuda:0')[0]\n",
    "    detections = sv.Detections.from_yolov8(results)\n",
    "    for zone, zone_annotator, box_annotator in zip(zones, zone_annotators, box_annotators):\n",
    "        mask = zone.trigger(detections=detections)\n",
    "        detections_filtered = detections[mask]\n",
    "        frame = box_annotator.annotate(scene=frame, detections=detections_filtered, skip_label=True)\n",
    "        frame = zone_annotator.annotate(scene=frame)\n",
    "    pbar.update(1)\n",
    "\n",
    "    return frame\n"
   ]
  },
  {
   "cell_type": "code",
   "execution_count": null,
   "metadata": {},
   "outputs": [],
   "source": [
    "filehead = video.split('/')[-1]\n",
    "OUT_PATH = \"out-\" + filehead"
   ]
  },
  {
   "cell_type": "code",
   "execution_count": null,
   "metadata": {},
   "outputs": [],
   "source": [
    "with tqdm(total=video_info.total_frames-1) as pbar:\n",
    "    sv.process_video(source_path=video, target_path=OUT_PATH, callback=process_frame)\n"
   ]
  }
 ],
 "metadata": {
  "language_info": {
   "name": "python"
  }
 },
 "nbformat": 4,
 "nbformat_minor": 2
}
